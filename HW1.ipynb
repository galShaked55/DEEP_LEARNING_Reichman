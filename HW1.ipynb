{
 "cells": [
  {
   "cell_type": "markdown",
   "metadata": {
    "id": "QnJUALElET8I"
   },
   "source": [
    "# Exercise 1: Linear Image Classifier\n",
    "\n",
    "In this exercise you will implement a linear image classifier while getting familiar with `numpy` and the benefits of vectorized operations in Python. This exercise has 2 parts:\n",
    "\n",
    "1. Implementing loss functions, calculating gradients and implementing gradient descent.\n",
    "2. Training and evaluating several classifiers.\n",
    "\n",
    "## Submission guidelines:\n",
    "\n",
    "Your submission should only include this jupyter notebook named HW1_ID.ipynb.\n",
    "\n",
    "## Read the following instructions carefully:\n",
    "\n",
    "1. This jupyter notebook contains all the step by step instructions needed for this exercise.\n",
    "2. Write **efficient vectorized** code whenever instructed. \n",
    "3. You are responsible for the correctness of your code and should add as many tests as you see fit. Tests will not be graded nor checked.\n",
    "4. Do not change the functions we provided you. \n",
    "4. Write your functions in the instructed python modules only. All the logic you write is imported and used using this jupyter notebook. You are allowed to add functions as long as they are located in the python modules and are imported properly.\n",
    "5. You are allowed to use functions and methods from the [Python Standard Library](https://docs.python.org/3/library/) and [numpy](https://www.numpy.org/devdocs/reference/) only. Any other imports are forbidden.\n",
    "6. Your code must run without errors.\n",
    "7. Answers to qualitative questions should be written in **markdown** cells (with $\\LaTeX$ support).\n",
    "8. **TIP: When there is a TODO before a missing code segment (or function), you can continue without implementing it right away; you will be referred to the missing segment later in the exercise.**"
   ]
  },
  {
   "cell_type": "markdown",
   "metadata": {
    "id": "_r1L4UklET8K"
   },
   "source": [
    "Q: What files do we need to upload to moodle?\n",
    "\n",
    "A: You should fill in the missing parts in this Jupyter notebook and then submit it via moodle (without any additional files).\n",
    "\n",
    "Q: How do I make sure everything works before I submit?\n",
    "\n",
    "A: You should restart your kernel and rerun all cells. Make sure you get the desired output and that you meet exercise requirements. **This is an important step. You should include your desired outputs in the output cells to make your code easier to understand.**"
   ]
  },
  {
   "cell_type": "markdown",
   "metadata": {
    "id": "UV9XOToVGvLZ"
   },
   "source": [
    "#### Installs (if needed)"
   ]
  },
  {
   "cell_type": "code",
   "metadata": {
    "ExecuteTime": {
     "end_time": "2024-11-26T12:40:09.483670Z",
     "start_time": "2024-11-26T12:40:09.475720Z"
    }
   },
   "source": [
    "### Blank cell for pip install\n",
    "### EXAMPLE \n",
    "# %pip install numpy (in some platforms or versions you will need to use '!' instead of '%'. like this - !pip install numpy)\n",
    "\n",
    "\n",
    "### Make sure to restart the note book after the installs ###"
   ],
   "outputs": [],
   "execution_count": 2
  },
  {
   "cell_type": "markdown",
   "metadata": {},
   "source": [
    "#### Imports"
   ]
  },
  {
   "cell_type": "code",
   "metadata": {
    "id": "iLXvPpILET8K",
    "ExecuteTime": {
     "end_time": "2024-11-26T12:40:12.796603Z",
     "start_time": "2024-11-26T12:40:09.490625Z"
    }
   },
   "source": [
    "import os\n",
    "import numpy as np\n",
    "import matplotlib.pyplot as plt\n",
    "import pickle\n",
    "import os\n",
    "import sys\n",
    "import urllib.request\n",
    "import tarfile\n",
    "import zipfile\n",
    "from random import randrange\n",
    "from functools import partial\n",
    "import itertools\n",
    "import time\n",
    "\n",
    "from jupyter_server.auth import passwd\n",
    "\n",
    "\n",
    "### if any import fails with the following Error - \"ModuleNotFoundError: No module named 'Module'\", use the blank cell from above to install the package using %pip install 'Module'\n",
    "\n",
    "# specify the way plots behave in jupyter notebook\n",
    "%matplotlib inline\n",
    "plt.rcParams['figure.figsize'] = (5.0, 3.0) # set default size of plots\n",
    "plt.rcParams['image.interpolation'] = 'nearest'\n",
    "plt.rcParams['image.cmap'] = 'gray'"
   ],
   "outputs": [],
   "execution_count": 3
  },
  {
   "cell_type": "markdown",
   "metadata": {
    "heading_collapsed": true,
    "id": "BtYsC3I7ET8L"
   },
   "source": [
    "# Data preprocessing\n"
   ]
  },
  {
   "cell_type": "markdown",
   "metadata": {
    "hidden": true,
    "id": "-WovI1B4Gxwp"
   },
   "source": [
    "## Data download and processing Helper Code"
   ]
  },
  {
   "cell_type": "code",
   "metadata": {
    "code_folding": [],
    "hidden": true,
    "id": "sC6iBqvmGYsn",
    "ExecuteTime": {
     "end_time": "2024-11-26T12:40:12.905060Z",
     "start_time": "2024-11-26T12:40:12.845473Z"
    }
   },
   "source": [
    "def maybe_download_and_extract(url, download_dir):\n",
    "    \"\"\"\n",
    "    Download and extract the data if it doesn't already exist.\n",
    "    Assumes the url is a tar-ball file.\n",
    "    :param url:\n",
    "        Internet URL for the tar-file to download.\n",
    "        Example: \"https://www.cs.toronto.edu/~kriz/cifar-10-python.tar.gz\"\n",
    "    :param download_dir:\n",
    "        Directory where the downloaded file is saved.\n",
    "        Example: \"data/CIFAR-10/\"\n",
    "    :return:\n",
    "        Nothing.\n",
    "    \"\"\"\n",
    "\n",
    "    # Filename for saving the file downloaded from the internet.\n",
    "    # Use the filename from the URL and add it to the download_dir.\n",
    "    filename = url.split('/')[-1]\n",
    "    file_path = os.path.join(download_dir, filename)\n",
    "\n",
    "    # Check if the file already exists.\n",
    "    # If it exists then we assume it has also been extracted,\n",
    "    # otherwise we need to download and extract it now.\n",
    "    if not os.path.exists(file_path):\n",
    "        # Check if the download directory exists, otherwise create it.\n",
    "        if not os.path.exists(download_dir):\n",
    "            os.makedirs(download_dir)\n",
    "\n",
    "        # Download the file from the internet.\n",
    "        print(\"Downloading, This might take several minutes.\")\n",
    "        last_update_time = time.time()\n",
    "        file_path, _ = urllib.request.urlretrieve(url=url,\n",
    "                                                  filename=file_path)\n",
    "\n",
    "        print()\n",
    "        print(\"Download finished. Extracting files.\")\n",
    "\n",
    "        if file_path.endswith(\".zip\"):\n",
    "            # Unpack the zip-file.\n",
    "            zipfile.ZipFile(file=file_path, mode=\"r\").extractall(download_dir)\n",
    "        elif file_path.endswith((\".tar.gz\", \".tgz\")):\n",
    "            # Unpack the tar-ball.\n",
    "            tarfile.open(name=file_path, mode=\"r:gz\").extractall(download_dir)\n",
    "\n",
    "        print(\"Done.\")\n",
    "    else:\n",
    "        print(\"Data has apparently already been downloaded and unpacked.\")\n",
    "        print(\"If not, delete the dataset folder and try again.\")\n",
    "\n",
    "def load_CIFAR_batch(filename):\n",
    "    ''' load single batch of cifar '''\n",
    "    with open(filename, 'rb') as f:\n",
    "        datadict = pickle.load(f, encoding = 'latin1')\n",
    "        X = datadict['data']\n",
    "        Y = datadict['labels']\n",
    "        X = X.reshape(10000, 3, 32, 32).transpose(0, 2, 3, 1).astype(\"float\")\n",
    "        Y = np.array(Y)\n",
    "        return X, Y\n",
    "\n",
    "def load(ROOT):\n",
    "    ''' load all of cifar '''\n",
    "    xs = []\n",
    "    ys = []\n",
    "    for b in range(1, 6):\n",
    "        f = os.path.join(ROOT, 'data_batch_%d' % (b, ))\n",
    "        X, Y = load_CIFAR_batch(f)\n",
    "        xs.append(X)\n",
    "        ys.append(Y)\n",
    "    Xtr = np.concatenate(xs)\n",
    "    Ytr = np.concatenate(ys)\n",
    "    del X, Y\n",
    "    Xte, Yte = load_CIFAR_batch(os.path.join(ROOT, 'test_batch'))\n",
    "    return Xtr, Ytr, Xte, Yte"
   ],
   "outputs": [],
   "execution_count": 4
  },
  {
   "cell_type": "markdown",
   "metadata": {
    "hidden": true,
    "id": "0qfmwr8lG3S8"
   },
   "source": [
    "## Data Download\n",
    "\n",
    "The next cell will download and extract CIFAR-10 into `datasets/cifar10/`. The CIFAR-10 dataset consists of 60,000 32x32 color images in 10 classes, with 6,000 images per class. There are 50,000 training images and 10,000 test images. The dataset is divided into five training batches and one test batch, each with 10,000 images. The test batch contains exactly 1,000 randomly-selected images from each class.\n"
   ]
  },
  {
   "cell_type": "code",
   "metadata": {
    "colab": {
     "base_uri": "https://localhost:8080/"
    },
    "hidden": true,
    "id": "eBbBnxJpET8L",
    "outputId": "19b0cf20-9282-492c-cad8-8d959975a10e",
    "ExecuteTime": {
     "end_time": "2024-11-26T12:40:12.935442Z",
     "start_time": "2024-11-26T12:40:12.930010Z"
    }
   },
   "source": [
    "# this cell will download the data if it does not exists\n",
    "URL = \"https://www.cs.toronto.edu/~kriz/cifar-10-python.tar.gz\"\n",
    "PATH = 'datasets/cifar10/' # the script will create required directories\n",
    "maybe_download_and_extract(URL, PATH) "
   ],
   "outputs": [
    {
     "name": "stdout",
     "output_type": "stream",
     "text": [
      "Data has apparently already been downloaded and unpacked.\n",
      "If not, delete the dataset folder and try again.\n"
     ]
    }
   ],
   "execution_count": 5
  },
  {
   "cell_type": "markdown",
   "metadata": {
    "hidden": true,
    "id": "AIyo61vC-Dmv"
   },
   "source": [
    "## Data Preprocessing Part 1"
   ]
  },
  {
   "cell_type": "markdown",
   "metadata": {
    "hidden": true,
    "id": "ersTr2wB-RAd"
   },
   "source": [
    "We have included several image processing functions. Notice the following in particular: we created an additional validation dataset you need to use for hyperparameter optimization."
   ]
  },
  {
   "cell_type": "code",
   "metadata": {
    "hidden": true,
    "id": "NFUWV8LnET8M",
    "ExecuteTime": {
     "end_time": "2024-11-26T12:40:20.734084Z",
     "start_time": "2024-11-26T12:40:13.009992Z"
    }
   },
   "source": [
    "CIFAR10_PATH = os.path.join(PATH, 'cifar-10-batches-py')\n",
    "X_train, y_train, X_test, y_test = load(CIFAR10_PATH) # load the entire data\n",
    "\n",
    "# taking only two classes from the dataset\n",
    "X_train = X_train[np.logical_or(y_train == 0, y_train == 1)]\n",
    "y_train = y_train[np.logical_or(y_train == 0, y_train == 1)]\n",
    "X_test = X_test[np.logical_or(y_test == 0, y_test == 1)]\n",
    "y_test = y_test[np.logical_or(y_test == 0, y_test == 1)]\n",
    "\n",
    "# define a splitting for the data\n",
    "num_training = 10000\n",
    "num_validation = 1000\n",
    "num_testing = 1000\n",
    "\n",
    "mask = range(num_training)\n",
    "X_train = X_train[mask]\n",
    "y_train = y_train[mask]\n",
    "# portion from the test dataset a validation dataset for hyperparameter optimization\n",
    "mask = range(num_validation)\n",
    "X_val = X_test[mask]\n",
    "y_val = y_test[mask]\n",
    "# test dataset, without overlap with train/validation\n",
    "mask = range(num_validation, num_validation+num_testing)\n",
    "X_test = X_test[mask]\n",
    "y_test = y_test[mask]\n",
    "\n",
    "# float64\n",
    "X_train = X_train.astype(np.float64)\n",
    "X_val = X_val.astype(np.float64)\n",
    "X_test = X_test.astype(np.float64)\n",
    "\n",
    "classes = ('plane', 'car')"
   ],
   "outputs": [],
   "execution_count": 6
  },
  {
   "cell_type": "code",
   "metadata": {
    "colab": {
     "base_uri": "https://localhost:8080/",
     "height": 151
    },
    "hidden": true,
    "id": "Daycmt2x5cVS",
    "outputId": "fe9e8a0d-66eb-4fa3-9196-462a2da8c180",
    "ExecuteTime": {
     "end_time": "2024-11-26T12:40:21.013746Z",
     "start_time": "2024-11-26T12:40:20.798694Z"
    }
   },
   "source": [
    "def get_batch(X, y, n=1000):\n",
    "    rand_items = np.random.randint(0, X.shape[0], size=n)\n",
    "    images = X[rand_items]\n",
    "    labels = y[rand_items]\n",
    "    return images, labels\n",
    "\n",
    "def make_random_grid(x, y, n=4, convert_to_image=True, random_flag=True):\n",
    "    if random_flag:\n",
    "        rand_items = np.random.randint(0, x.shape[0], size=n)\n",
    "    else:\n",
    "        rand_items = np.arange(0, x.shape[0])\n",
    "    images = x[rand_items]\n",
    "    labels = y[rand_items]\n",
    "    if convert_to_image:\n",
    "        grid = np.hstack(np.array([np.asarray((vec_2_img(i) + mean_image), dtype=np.int64) for i in images]))\n",
    "    else:\n",
    "        grid = np.hstack(np.array([np.asarray(i, dtype=np.int64) for i in images]))\n",
    "    print('\\t'.join('%9s' % classes[labels[j]] for j in range(n)))\n",
    "    return grid\n",
    "\n",
    "def vec_2_img(x):\n",
    "    x = np.reshape(x[:-1], (32, 32, 3))\n",
    "    return x\n",
    "\n",
    "X_batch, y_batch = get_batch(X_test, y_test, 100)\n",
    "plt.imshow(make_random_grid(X_batch, y_batch, n=4, convert_to_image=False));"
   ],
   "outputs": [
    {
     "name": "stdout",
     "output_type": "stream",
     "text": [
      "    plane\t      car\t      car\t      car\n"
     ]
    },
    {
     "data": {
      "text/plain": [
       "<Figure size 500x300 with 1 Axes>"
      ],
      "image/png": "[encoded data removed]"
     },
     "metadata": {},
     "output_type": "display_data"
    }
   ],
   "execution_count": 7
  },
  {
   "cell_type": "markdown",
   "metadata": {
    "hidden": true,
    "id": "RhismcUO9-xk"
   },
   "source": [
    "## Data Preprocessing Part 2\n",
    "\n",
    "We have included several image processing functions. Notice the following in particular: We subtracted the mean from all the images in order to ignore illumination conditions while keeping the content of the image. Next, we flattened the images from a tensor of shape (32x32x3) to a vector with 3072 features (pixel values) so we would be able to use a simple matrix multiplication. Finally, we concatenated each image vector with an additional feature to account for the bias. This is known as the bias trick. \n",
    "\n",
    "Make sure you understand this image processing pipeline before diving into the rest of the code."
   ]
  },
  {
   "cell_type": "code",
   "metadata": {
    "colab": {
     "base_uri": "https://localhost:8080/"
    },
    "hidden": true,
    "id": "C9YCYi5KZhXD",
    "outputId": "d0d032ee-5e2d-498f-b907-3ecc1fd895ef",
    "ExecuteTime": {
     "end_time": "2024-11-26T12:40:21.466321Z",
     "start_time": "2024-11-26T12:40:21.095960Z"
    }
   },
   "source": [
    "# Final data preprocessing\n",
    "# subtract the mean from all the images in the batch\n",
    "mean_image = np.mean(X_train, axis=0)\n",
    "X_train -= mean_image\n",
    "X_val -= mean_image\n",
    "X_test -= mean_image\n",
    "\n",
    "# flatten all the images in the batch (make sure you understand why this is needed)\n",
    "X_train = np.reshape(X_train, newshape=(X_train.shape[0], -1))\n",
    "X_val = np.reshape(X_val, newshape=(X_val.shape[0], -1)) \n",
    "X_test = np.reshape(X_test, newshape=(X_test.shape[0], -1)) \n",
    "\n",
    "# add a bias term to all images in the batch\n",
    "X_train = np.hstack([X_train, np.ones((X_train.shape[0], 1))]) \n",
    "X_val = np.hstack([X_val, np.ones((X_val.shape[0], 1))]) \n",
    "X_test = np.hstack([X_test, np.ones((X_test.shape[0], 1))]) \n",
    "\n",
    "print(f\"Shape of Training Set: {X_train.shape}\")\n",
    "print(f\"Shape of Validation Set: {X_val.shape}\")\n",
    "print(f\"Shape of Test Set: {X_test.shape}\")"
   ],
   "outputs": [
    {
     "name": "stdout",
     "output_type": "stream",
     "text": [
      "Shape of Training Set: (10000, 3073)\n",
      "Shape of Validation Set: (1000, 3073)\n",
      "Shape of Test Set: (1000, 3073)\n"
     ]
    }
   ],
   "execution_count": 8
  },
  {
   "cell_type": "markdown",
   "metadata": {
    "id": "1BX0bVW0ET8N"
   },
   "source": [
    "# Linear classifier: mapping images to scores\n",
    "\n",
    "During this exercise, we will maintain a python class with basic functionality (such as training the model). the linear classifiers we will build (perceptron, logistic regression) will inherit some functionality from that class and will change several functions (such as the loss function, for example). Read the code in the next cell and make sure you understand it. You might also find this [short classes in python tutorial](https://www.hackerearth.com/practice/python/object-oriented-programming/classes-and-objects-i/tutorial/) useful.\n"
   ]
  },
  {
   "cell_type": "code",
   "metadata": {
    "id": "FXAVk7l6LVty",
    "ExecuteTime": {
     "end_time": "2024-11-26T12:40:21.528745Z",
     "start_time": "2024-11-26T12:40:21.501980Z"
    }
   },
   "source": [
    "class LinearClassifier(object):\n",
    "    def __init__(self, X, y):\n",
    "        \"\"\"\n",
    "        Class constructor. Use this method to initiate the parameters of\n",
    "        your model (W)\n",
    "        *** Subclasses will override this. ***\n",
    "\n",
    "        Inputs:\n",
    "        - X: array of data - a 2D array of size (num_instances=N, num_features)\n",
    "        - y: 1-dimensional array of length N with binary labels\n",
    "\n",
    "        This function has no return value\n",
    "\n",
    "        \"\"\"\n",
    "        self.W = None\n",
    "    def predict(self, X):\n",
    "        \"\"\"\n",
    "        Use the weight of the classifier to predict a label. \n",
    "        *** Subclasses will override this. ***\n",
    "\n",
    "        Input: 2D array of size (num_instances, num_features).\n",
    "        Output: 1D array of class predictions (num_instances, 1). \n",
    "        \"\"\"\n",
    "        pass\n",
    "\n",
    "    def calc_accuracy(self, X, y):\n",
    "        \"\"\"\n",
    "        Calculate the accuracy on a dataset as the percentage of instances \n",
    "        that are classified correctly. \n",
    "\n",
    "        Inputs:\n",
    "        - W: array of weights\n",
    "        - X: array of data\n",
    "        - y: 1-dimensional array of length N with binary labels\n",
    "        Returns:\n",
    "        - accuracy as a single float\n",
    "        \"\"\"\n",
    "\n",
    "        accuracy = 0.0\n",
    "        y_pred = self.predict(X) # The linear classifier make his predictions\n",
    "        true_pos_and_true_neg = np.sum(np.where(y_pred == y, 1, 0)) # Sum up the predictions that matches the true labels\n",
    "        samples = y.shape[0]\n",
    "        \n",
    "        return true_pos_and_true_neg / samples\n",
    "\n",
    "\n",
    "    def train(self, X, y, learning_rate=1e-3, num_iters=100, batch_size=200, verbose=False):\n",
    "        \n",
    "        num_instances = X.shape[0]\n",
    "        loss_history = []\n",
    "        loss = 0.0\n",
    "        for i in range(num_iters):\n",
    "            \n",
    "            indices = np.random.choice(num_instances, size=batch_size) # Chooses randomly batch_size samples from the training set\n",
    "            X_batch = X[indices]\n",
    "            y_batch = y[indices]\n",
    "            loss, cur_dW = self.loss(X_batch, y_batch) # Compute the loss and the current gradient induced by the current W above the batch\n",
    "            loss_history.append(loss)\n",
    "\n",
    "            \n",
    "            self.W = self.W + (learning_rate * cur_dW) # Apply the gd rule\n",
    "           \n",
    "\n",
    "            if verbose and i % 100 == 0:\n",
    "                print ('iteration %d / %d: loss %f' % (i, num_iters, loss))\n",
    "\n",
    "        return loss_history\n",
    "\n",
    "\n",
    "    def loss(self, X, y):\n",
    "        \"\"\"\n",
    "        Compute the loss function and its derivative. \n",
    "        Subclasses will override this.\n",
    "        Inputs:\n",
    "        - X_batch: A numpy array of shape (N, D) containing a minibatch of N\n",
    "          data points; each point has dimension D.\n",
    "        - y_batch: A numpy array of shape (N,) containing labels for the minibatch.\n",
    "        Returns: A tuple containing:\n",
    "        - loss as a single float\n",
    "        - gradient with respect to self.W; an array of the same shape as W\n",
    "        \"\"\"\n",
    "        pass"
   ],
   "outputs": [],
   "execution_count": 9
  },
  {
   "cell_type": "markdown",
   "metadata": {
    "id": "p9WqAhlmLMGU"
   },
   "source": [
    "## Linear perceptron\n",
    "Our first linear classifier will include a linear function that maps images to score/scores:\n",
    "\n",
    "$$\n",
    "f(x_i; W, b) = W\\cdot x_i + b\n",
    "$$\n",
    "\n",
    "In the multiclass case, W will be a matrix that maps the input into scores (score for each class) and the final prediction will be the class with the highest score.\n",
    "The binary case is a special case where you can choose to implement W as a 2 dim matrix or as a vector. The first option treats the binary problem as a multiclass problem with 2 classes, therefore, the prediction will be the class with the highest score. In case you choose to implement W as a vector (which map the input to a single score), the final prediction is done by:\n",
    "\n",
    "\n",
    "if w·x+b > 0 classify the target as 1, else classify the target as 0.\n",
    "\n",
    "**Important Note** - In this exercise we focus on the binary case, and you should implement W as a vector.\n",
    "\n",
    "Your goal is to **learn** the parameters $W$ and $b$ to best classify the images according to the provided labels.\n",
    "\n",
    "Read the next code cell. The constructor of the `LinearPerceptron` class takes as input the dataset and labels in order to create appropriate parameters. Notice we are using the bias trick and only use `w` for convenience. You may initialize `w` randomly ([0,1] or [-1,1]).\n",
    "\n",
    "Since we already have a (random) model, we can start predicting classes on images. Complete the method `predict` in the `LinearPerceptron` class. **(5 Points)**"
   ]
  },
  {
   "cell_type": "code",
   "metadata": {
    "id": "cfLTGvYILcJw",
    "ExecuteTime": {
     "end_time": "2024-11-26T12:40:21.575042Z",
     "start_time": "2024-11-26T12:40:21.561799Z"
    }
   },
   "source": [
    "class LinearPerceptron(LinearClassifier):\n",
    "    # Classifier that uses Perceptron loss\n",
    "\n",
    "    def __init__(self, X, y):\n",
    "        \"\"\"\n",
    "        Class constructor. Use this method to initiate the parameters of your model.\n",
    "        assume y takes values 0...K-1 where K is number of classes\n",
    "        :param X: Dataset\n",
    "        :param y: Datsaset's samples labeles\n",
    "        For binary classification, initialize a property W which is a nparray of shape (1, features space's dim = N)\n",
    "        \"\"\"\n",
    "        super().__init__(X, y)\n",
    "        N = X.shape[1]\n",
    "        K = np.unique(y).shape[0]\n",
    "        \n",
    "        if K == 2:          # In our case, dealing with binary classification, using only one W vector suffices\n",
    "            K -= 1\n",
    "            \n",
    "        self.W = np.random.uniform(-1, 1, (N, K))\n",
    "        \n",
    "\n",
    "    def predict(self, X):\n",
    "        \"\"\"\n",
    "        Use the classifier to predict a label.\n",
    "        :param X: the data\n",
    "        :return: the linear perceptron predictions for the dataset provided -X\n",
    "        \"\"\"\n",
    "        X_logit = X @ self.W            # Compute each sample's projection on W\n",
    "        y_pred = np.where(X_logit > 0, 1, 0).reshape(-1)            # The linear perceptron predicts that an instance belong to class 1 if the logit greater then zero\n",
    "                                                                    # Otherwise, it predicts that the samples comes from class 0.\n",
    "        \n",
    "        return y_pred\n",
    "\n",
    "\n",
    "    def loss(self, X_batch, y_batch):\n",
    "        # perceptron_loss_vectorized will be implemented later\n",
    "        return perceptron_loss_vectorized(self.W, X_batch, y_batch)"
   ],
   "outputs": [],
   "execution_count": 10
  },
  {
   "cell_type": "code",
   "metadata": {
    "id": "2cb3cgLeET8N",
    "ExecuteTime": {
     "end_time": "2024-11-26T12:40:21.621972Z",
     "start_time": "2024-11-26T12:40:21.608966Z"
    }
   },
   "source": [
    "classifier = LinearPerceptron(X_train, y_train)\n",
    "\n",
    "y_pred = classifier.predict(X_test)"
   ],
   "outputs": [],
   "execution_count": 11
  },
  {
   "cell_type": "code",
   "metadata": {
    "colab": {
     "base_uri": "https://localhost:8080/",
     "height": 151
    },
    "id": "w2Cv7adkET8N",
    "outputId": "752d16c3-3e78-4b87-e410-62be8eaf5035",
    "ExecuteTime": {
     "end_time": "2024-11-26T12:40:21.761727Z",
     "start_time": "2024-11-26T12:40:21.655814Z"
    }
   },
   "source": [
    "X_batch, y_batch = get_batch(X_train, y_train, 4)\n",
    "plt.imshow(make_random_grid(X_batch, y_batch, convert_to_image=True))\n",
    "plt.show()"
   ],
   "outputs": [
    {
     "name": "stdout",
     "output_type": "stream",
     "text": [
      "      car\t      car\t      car\t      car\n"
     ]
    },
    {
     "data": {
      "text/plain": [
       "<Figure size 500x300 with 1 Axes>"
      ],
      "image/png": "[encoded data removed]"
     },
     "metadata": {},
     "output_type": "display_data"
    }
   ],
   "execution_count": 12
  },
  {
   "cell_type": "code",
   "metadata": {
    "colab": {
     "base_uri": "https://localhost:8080/"
    },
    "id": "BKUh3OFFET8N",
    "outputId": "2a295c68-b089-4848-e533-966c764324cc",
    "ExecuteTime": {
     "end_time": "2024-11-26T12:40:21.808957Z",
     "start_time": "2024-11-26T12:40:21.795978Z"
    }
   },
   "source": [
    "# predictions\n",
    "print(' '.join('%9s' % classes[y_pred[j]] for j in range(4)))"
   ],
   "outputs": [
    {
     "name": "stdout",
     "output_type": "stream",
     "text": [
      "      car     plane       car     plane\n"
     ]
    }
   ],
   "execution_count": 13
  },
  {
   "cell_type": "markdown",
   "metadata": {
    "id": "N-1RXh-lET8O"
   },
   "source": [
    "## Evaluation \n",
    "\n",
    "Complete the class method `calc_accuracy`. **(5 Points)**"
   ]
  },
  {
   "cell_type": "code",
   "metadata": {
    "colab": {
     "base_uri": "https://localhost:8080/"
    },
    "id": "IiSJ5-wvET8O",
    "outputId": "2fffb0c5-551f-4ae5-e0c4-3082d1a86338",
    "ExecuteTime": {
     "end_time": "2024-11-26T12:40:21.887021Z",
     "start_time": "2024-11-26T12:40:21.854557Z"
    }
   },
   "source": [
    "print(\"model accuracy: \", classifier.calc_accuracy(X_train, y_train))"
   ],
   "outputs": [
    {
     "name": "stdout",
     "output_type": "stream",
     "text": [
      "model accuracy:  0.5616\n"
     ]
    }
   ],
   "execution_count": 14
  },
  {
   "cell_type": "markdown",
   "metadata": {
    "id": "fAFp3MOYET8O"
   },
   "source": [
    "**Explain why the accuracy on the training dataset is around 50% (remember, the model is not trained yet). **(5 Points)**** \n",
    "\n",
    "Answer: We get an accuracy of 50% since we haven't trained our model on the dataset.\n",
    "The accuracy measured reflects the fact we initialized the W randomly, so, it makes sense that the model classifies randomly between the two possible classes.\n",
    "In other words, since our model still knows nothing about the data, so for every sample it is guessing it's class without stressing the feature values it has."
   ]
  },
  {
   "cell_type": "markdown",
   "metadata": {
    "id": "kuFKR-UKET8O"
   },
   "source": [
    "## Perceptron loss\n",
    "\n",
    "Your code for this section will all be written in the next cell. In this section, we write and test code outside the classes for convenience. Notice the loss method for each class is just a call for the loss function written in the next cell. Once you are finished with implementation, everything should work.\n",
    "\n",
    "First, complete the function `perceptron_loss_naive`. This function takes as input the weights, data, labels and outputs the calculated loss as a single number and the gradients with respect to W.  **(15 points)**"
   ]
  },
  {
   "cell_type": "code",
   "metadata": {
    "id": "McEGmknNYFXC",
    "ExecuteTime": {
     "end_time": "2024-11-26T12:40:21.932701Z",
     "start_time": "2024-11-26T12:40:21.917991Z"
    }
   },
   "source": [
    "def perceptron_loss_naive(W, X, y):\n",
    "    \"\"\"\n",
    "    Structured perceptron loss function, naive implementation (with loops)\n",
    "    Inputs:\n",
    "    - W: array of weights\n",
    "    - X: array of data\n",
    "    - y: 1-dimensional array of length N with labels 0...K-1, for K classes\n",
    "    Returns:\n",
    "    a tuple of:\n",
    "    - loss as single float\n",
    "    - gradient with respect to weights W; an array of same shape as W\n",
    "    \"\"\"\n",
    "    loss = 0.0\n",
    "    dW = np.zeros(W.shape) # initialize the gradient as zero\n",
    "    N = X.shape[0]\n",
    "    \n",
    "    for i in range(N): \n",
    "        z = X[i : i + 1] @ W\n",
    "        t = y[i]\n",
    "        if t == 0:\n",
    "            t = -1.0\n",
    "        \n",
    "        loss_p = max(0, -1.0 * t * z)\n",
    "        loss += loss_p\n",
    "        \n",
    "        if loss_p > 0:\n",
    "            dW = dW + (t * X[i : i + 1]).T\n",
    "            \n",
    "    return loss / N , dW"
   ],
   "outputs": [],
   "execution_count": 15
  },
  {
   "cell_type": "code",
   "metadata": {
    "id": "tGcQrlGJET8O",
    "ExecuteTime": {
     "end_time": "2024-11-26T12:40:21.996247Z",
     "start_time": "2024-11-26T12:40:21.981989Z"
    }
   },
   "source": [
    "W = np.random.randn(3073, 1) * 0.0001"
   ],
   "outputs": [],
   "execution_count": 16
  },
  {
   "cell_type": "code",
   "metadata": {
    "colab": {
     "base_uri": "https://localhost:8080/"
    },
    "id": "UKmH67DEET8O",
    "outputId": "fe871e58-b641-40d3-accd-7e1cd4d0dc1b",
    "ExecuteTime": {
     "end_time": "2024-11-26T12:40:22.042303Z",
     "start_time": "2024-11-26T12:40:22.012180Z"
    }
   },
   "source": [
    "%%time\n",
    "loss_naive, _= perceptron_loss_naive(W, X_val, y_val)\n",
    "print ('loss: %f' % (loss_naive))"
   ],
   "outputs": [
    {
     "name": "stdout",
     "output_type": "stream",
     "text": [
      "loss: 0.157718\n",
      "CPU times: total: 15.6 ms\n",
      "Wall time: 20.7 ms\n"
     ]
    }
   ],
   "execution_count": 17
  },
  {
   "cell_type": "markdown",
   "metadata": {
    "id": "Z-Hh-R7bET8P"
   },
   "source": [
    "Once your code works, complete the function `perceptron_loss_vectorized` and compare the results of the two functions using the cell below. **(15 points)**"
   ]
  },
  {
   "cell_type": "code",
   "metadata": {
    "id": "w1HLNSCWYIRK",
    "ExecuteTime": {
     "end_time": "2024-11-26T12:40:22.104870Z",
     "start_time": "2024-11-26T12:40:22.081984Z"
    }
   },
   "source": [
    "def perceptron_loss_vectorized(W, X, y):\n",
    "    \"\"\"\n",
    "    Vectorized version of perceptron_loss_naive. instead of loops, should use \n",
    "    numpy vectorization.\n",
    "\n",
    "    Inputs and outputs are the same as perceptron_loss_naive.\n",
    "    \"\"\"\n",
    "    loss = 0.0\n",
    "    dW = np.zeros(W.shape) # initialize the gradient as zero\n",
    "    N = X.shape[0]\n",
    "    \n",
    "    y_binary = np.array([i if i > 0 else -1 for i in y]).reshape(-1, 1)     # Treat the \"0\" class as -1 for adhering the notions learned in class\n",
    "    logit = X @ W\n",
    "    z_t = logit * y_binary\n",
    "    minus_z_t = z_t * -1.0\n",
    "    loss = minus_z_t[minus_z_t > 0].sum() / N\n",
    "    \n",
    "    X_t = X * y_binary\n",
    "    mask = z_t < 0\n",
    "    wrongly_classified = X_t[mask.flatten()]\n",
    "    wrongly_classified_sum = wrongly_classified.sum(axis=0)\n",
    "    dW = wrongly_classified_sum.reshape(-1, 1)\n",
    "    \n",
    "    return loss, dW"
   ],
   "outputs": [],
   "execution_count": 18
  },
  {
   "cell_type": "code",
   "metadata": {
    "colab": {
     "base_uri": "https://localhost:8080/"
    },
    "id": "_puMMu8vET8P",
    "outputId": "910a25b9-0067-4c02-fb5d-5b11137458ec",
    "scrolled": true,
    "ExecuteTime": {
     "end_time": "2024-11-26T12:40:22.181182Z",
     "start_time": "2024-11-26T12:40:22.137492Z"
    }
   },
   "source": [
    "%%time\n",
    "loss_vectorized, _= perceptron_loss_vectorized(W, X_val, y_val)\n",
    "print ('loss: %f' % (loss_vectorized))"
   ],
   "outputs": [
    {
     "name": "stdout",
     "output_type": "stream",
     "text": [
      "loss: 0.157718\n",
      "CPU times: total: 0 ns\n",
      "Wall time: 23.1 ms\n"
     ]
    }
   ],
   "execution_count": 19
  },
  {
   "cell_type": "markdown",
   "metadata": {
    "id": "E6oNHXGHET8P"
   },
   "source": [
    "You might not see big changes in time due to other computing factors. In big enough datasets it would be crucial to use the vectorized version.\n",
    "\n",
    "We have obtained an efficient function for loss and gradient calculation and we can now train our network. Complete the function `train` in the `LinearClassifier` class. (**15 points**)"
   ]
  },
  {
   "cell_type": "code",
   "metadata": {
    "colab": {
     "base_uri": "https://localhost:8080/"
    },
    "id": "_QtvCxghET8P",
    "outputId": "1aaeba56-864b-442f-ef6c-a3e0e9fe7c08",
    "ExecuteTime": {
     "end_time": "2024-11-26T12:40:33.455364Z",
     "start_time": "2024-11-26T12:40:22.224271Z"
    }
   },
   "source": [
    "%%time\n",
    "perceptron = LinearPerceptron(X_train, y_train)\n",
    "loss_history = perceptron.train(X_train, y_train, learning_rate=1e-7, \n",
    "                                num_iters=1500, verbose=True)"
   ],
   "outputs": [
    {
     "name": "stdout",
     "output_type": "stream",
     "text": [
      "iteration 0 / 1500: loss 713.119493\n",
      "iteration 100 / 1500: loss 532.272392\n",
      "iteration 200 / 1500: loss 441.607604\n",
      "iteration 300 / 1500: loss 367.811243\n",
      "iteration 400 / 1500: loss 453.912602\n",
      "iteration 500 / 1500: loss 325.158953\n",
      "iteration 600 / 1500: loss 293.706232\n",
      "iteration 700 / 1500: loss 260.653804\n",
      "iteration 800 / 1500: loss 258.330285\n",
      "iteration 900 / 1500: loss 172.092131\n",
      "iteration 1000 / 1500: loss 208.746712\n",
      "iteration 1100 / 1500: loss 253.515285\n",
      "iteration 1200 / 1500: loss 250.274642\n",
      "iteration 1300 / 1500: loss 179.933922\n",
      "iteration 1400 / 1500: loss 243.409096\n",
      "CPU times: total: 4.39 s\n",
      "Wall time: 11.2 s\n"
     ]
    }
   ],
   "execution_count": 20
  },
  {
   "cell_type": "code",
   "metadata": {
    "colab": {
     "base_uri": "https://localhost:8080/",
     "height": 279
    },
    "id": "_jzvksCFET8P",
    "outputId": "35a93ae5-393f-43ba-ce4c-a0ade49eb1e9",
    "ExecuteTime": {
     "end_time": "2024-11-26T12:40:33.610525Z",
     "start_time": "2024-11-26T12:40:33.487992Z"
    }
   },
   "source": [
    "plt.plot(loss_history)\n",
    "plt.xlabel('Iteration number')\n",
    "plt.ylabel('Loss value')\n",
    "plt.show()"
   ],
   "outputs": [
    {
     "data": {
      "text/plain": [
       "<Figure size 500x300 with 1 Axes>"
      ],
      "image/png": "[encoded data removed]"
     },
     "metadata": {},
     "output_type": "display_data"
    }
   ],
   "execution_count": 21
  },
  {
   "cell_type": "code",
   "metadata": {
    "colab": {
     "base_uri": "https://localhost:8080/"
    },
    "id": "eFNormxyET8P",
    "outputId": "7aa6b408-7826-4d59-a99c-5f40725a0b1f",
    "ExecuteTime": {
     "end_time": "2024-11-26T12:40:33.750223Z",
     "start_time": "2024-11-26T12:40:33.718262Z"
    }
   },
   "source": [
    "print(\"Training accuracy: \", perceptron.calc_accuracy(X_train, y_train))\n",
    "print(\"Testing accuracy: \", perceptron.calc_accuracy(X_test, y_test))"
   ],
   "outputs": [
    {
     "name": "stdout",
     "output_type": "stream",
     "text": [
      "Training accuracy:  0.7099\n",
      "Testing accuracy:  0.724\n"
     ]
    }
   ],
   "execution_count": 22
  },
  {
   "cell_type": "markdown",
   "metadata": {
    "id": "R277VSx8ET8P"
   },
   "source": [
    "## Hyperparameter optimization\n",
    "\n",
    "Your model should have improved from 50% accuracy to ~75% accuracy in a matter of seconds. Now, use the validation set to tune hyperparameters by training different models (using the training dataset) and evaluating the performance using the validation dataset. Save the results in a dictionary mapping tuples of the form `(learning_rate, batch_size)` to tuples of the form `(training_accuracy, validation_accuracy)`. Finally, you should evaluate the best model on the testing dataset. \n",
    "\n",
    "Use a small value for the number of iterations as you develop your code. Once you are confident that everything works, run it again for more iterations. **(5 points)**\n"
   ]
  },
  {
   "cell_type": "code",
   "metadata": {
    "colab": {
     "base_uri": "https://localhost:8080/"
    },
    "id": "m_g5iSBQET8Q",
    "outputId": "95953a49-5ff4-456e-db93-734fad51b975",
    "ExecuteTime": {
     "end_time": "2024-11-26T12:44:36.835582Z",
     "start_time": "2024-11-26T12:40:33.803403Z"
    }
   },
   "source": [
    "# You are encouraged to experiment with additional values\n",
    "learning_rates = [1e-7, 5e-6, 1e-6, 1e-5, 1e-4, 1e-3, 1e-2]\n",
    "batch_sizes = [1, 100, 200, 500, 750]\n",
    "\n",
    "results = {}\n",
    "best_val = -1   # The highest validation accuracy that we have seen so far.\n",
    "best_perceptron = None # The LinearPerceptron object that achieved the highest validation rate.\n",
    "\n",
    "\n",
    "\n",
    "combinations = itertools.product(learning_rates, batch_sizes)           # Generate the cartesian product of learning_rates X batch_sizes\n",
    "\n",
    "for lr, batch_size in combinations:\n",
    "    perceptron = LinearPerceptron(X_train, y_train)\n",
    "    perceptron.train(X_train, y_train, learning_rate=lr, num_iters=750, batch_size=batch_size, verbose=False)\n",
    "    t_acc = perceptron.calc_accuracy(X_train, y_train)\n",
    "    v_acc = perceptron.calc_accuracy(X_val, y_val)\n",
    "    if v_acc > best_val:\n",
    "        best_perceptron = perceptron\n",
    "        best_val = v_acc\n",
    "    \n",
    "    results[(lr, batch_size)] = (t_acc, v_acc)\n",
    "    \n",
    "\n",
    "\n",
    "    \n",
    "# Print out results.\n",
    "for lr, batch_size in sorted(results):\n",
    "    train_accuracy, val_accuracy = results[(lr, batch_size)]\n",
    "    print ('lr %e batch_size %e train accuracy: %f val accuracy: %f' % (\n",
    "                lr, batch_size, train_accuracy, val_accuracy))\n",
    "    \n",
    "print ('best validation accuracy achieved during cross-validation: %f' % best_val)\n",
    "\n",
    "test_accuracy = best_perceptron.calc_accuracy(X_test, y_test)\n",
    "print ('linear perceptron on raw pixels final test set accuracy: %f' % test_accuracy)"
   ],
   "outputs": [
    {
     "name": "stdout",
     "output_type": "stream",
     "text": [
      "lr 1.000000e-07 batch_size 1.000000e+00 train accuracy: 0.555500 val accuracy: 0.568000\n",
      "lr 1.000000e-07 batch_size 1.000000e+02 train accuracy: 0.628500 val accuracy: 0.647000\n",
      "lr 1.000000e-07 batch_size 2.000000e+02 train accuracy: 0.687600 val accuracy: 0.681000\n",
      "lr 1.000000e-07 batch_size 5.000000e+02 train accuracy: 0.726800 val accuracy: 0.734000\n",
      "lr 1.000000e-07 batch_size 7.500000e+02 train accuracy: 0.719200 val accuracy: 0.710000\n",
      "lr 1.000000e-06 batch_size 1.000000e+00 train accuracy: 0.528600 val accuracy: 0.525000\n",
      "lr 1.000000e-06 batch_size 1.000000e+02 train accuracy: 0.733100 val accuracy: 0.750000\n",
      "lr 1.000000e-06 batch_size 2.000000e+02 train accuracy: 0.737000 val accuracy: 0.759000\n",
      "lr 1.000000e-06 batch_size 5.000000e+02 train accuracy: 0.763200 val accuracy: 0.746000\n",
      "lr 1.000000e-06 batch_size 7.500000e+02 train accuracy: 0.766900 val accuracy: 0.763000\n",
      "lr 5.000000e-06 batch_size 1.000000e+00 train accuracy: 0.660900 val accuracy: 0.665000\n",
      "lr 5.000000e-06 batch_size 1.000000e+02 train accuracy: 0.767200 val accuracy: 0.777000\n",
      "lr 5.000000e-06 batch_size 2.000000e+02 train accuracy: 0.777100 val accuracy: 0.770000\n",
      "lr 5.000000e-06 batch_size 5.000000e+02 train accuracy: 0.746600 val accuracy: 0.747000\n",
      "lr 5.000000e-06 batch_size 7.500000e+02 train accuracy: 0.762100 val accuracy: 0.747000\n",
      "lr 1.000000e-05 batch_size 1.000000e+00 train accuracy: 0.662400 val accuracy: 0.670000\n",
      "lr 1.000000e-05 batch_size 1.000000e+02 train accuracy: 0.792500 val accuracy: 0.776000\n",
      "lr 1.000000e-05 batch_size 2.000000e+02 train accuracy: 0.798700 val accuracy: 0.789000\n",
      "lr 1.000000e-05 batch_size 5.000000e+02 train accuracy: 0.723100 val accuracy: 0.711000\n",
      "lr 1.000000e-05 batch_size 7.500000e+02 train accuracy: 0.670900 val accuracy: 0.669000\n",
      "lr 1.000000e-04 batch_size 1.000000e+00 train accuracy: 0.748400 val accuracy: 0.754000\n",
      "lr 1.000000e-04 batch_size 1.000000e+02 train accuracy: 0.827200 val accuracy: 0.822000\n",
      "lr 1.000000e-04 batch_size 2.000000e+02 train accuracy: 0.763100 val accuracy: 0.778000\n",
      "lr 1.000000e-04 batch_size 5.000000e+02 train accuracy: 0.808600 val accuracy: 0.821000\n",
      "lr 1.000000e-04 batch_size 7.500000e+02 train accuracy: 0.831300 val accuracy: 0.832000\n",
      "lr 1.000000e-03 batch_size 1.000000e+00 train accuracy: 0.714100 val accuracy: 0.731000\n",
      "lr 1.000000e-03 batch_size 1.000000e+02 train accuracy: 0.822000 val accuracy: 0.815000\n",
      "lr 1.000000e-03 batch_size 2.000000e+02 train accuracy: 0.750000 val accuracy: 0.761000\n",
      "lr 1.000000e-03 batch_size 5.000000e+02 train accuracy: 0.822300 val accuracy: 0.827000\n",
      "lr 1.000000e-03 batch_size 7.500000e+02 train accuracy: 0.746400 val accuracy: 0.765000\n",
      "lr 1.000000e-02 batch_size 1.000000e+00 train accuracy: 0.767000 val accuracy: 0.768000\n",
      "lr 1.000000e-02 batch_size 1.000000e+02 train accuracy: 0.770500 val accuracy: 0.771000\n",
      "lr 1.000000e-02 batch_size 2.000000e+02 train accuracy: 0.813200 val accuracy: 0.803000\n",
      "lr 1.000000e-02 batch_size 5.000000e+02 train accuracy: 0.824500 val accuracy: 0.821000\n",
      "lr 1.000000e-02 batch_size 7.500000e+02 train accuracy: 0.823300 val accuracy: 0.826000\n",
      "best validation accuracy achieved during cross-validation: 0.832000\n",
      "linear perceptron on raw pixels final test set accuracy: 0.809000\n"
     ]
    }
   ],
   "execution_count": 23
  },
  {
   "cell_type": "markdown",
   "metadata": {
    "id": "upoW3pQ1ET8Q"
   },
   "source": [
    "## Logistic regression\n",
    "\n",
    "Another choice for a binary classifier is the binary logistic regression classifier. Unlike the perceptron which treats the outputs as uncalibrated and possibly difficult to interpret scores for each class, the binary logistic regression classifier gives a slightly more intuitive output in the form of normalized class probabilities. In this classifier, the function mapping $f(x_i; W, b) = W\\cdot x_i + b$ stays unchanged but we now interpret these scores as the unnormalized log probabilities for each class and replace the perceptron loss with a cross-entropy loss. In this exercise, we will define our binary logistic regression classifier to have one input.       \n",
    "\n",
    "Read the next code cell. The constructor of the `LogisticRegression` class takes as input the dataset and labels in order to create appropriate parameters. Notice we are using the bias trick and only use the matrix `w` for convenience. Since we already have a (random) model, we can start predicting classes on images. Complete the method `predict` in the `LogisticRegression` class - remember you need to implement the sigmoid function before you can obtain predictions using your classifier. **(10 Points)**\n",
    "\n",
    "**Important note**: values passed to the `sigmoid` function can be arbitrarily large or small. When we take the exponent of such values, we might encounter extreme values that might *overflow*. This is known as numerical instability and you should always take care when you use exponent in your functions. "
   ]
  },
  {
   "cell_type": "code",
   "metadata": {
    "id": "Y9cU2sJ_X96d",
    "ExecuteTime": {
     "end_time": "2024-11-26T12:44:36.882179Z",
     "start_time": "2024-11-26T12:44:36.872708Z"
    }
   },
   "source": [
    "def sigmoid(x):\n",
    "    \"\"\"\n",
    "    Numerically stable Sigmoid function.\n",
    "\n",
    "    Input: any unnormalized log probabilities vector\n",
    "    Output: normalized probabilities\n",
    "    \"\"\"\n",
    "    def positive_sigmoid(m):\n",
    "        \"\"\"\n",
    "        When x is non-negative e^x might overflow\n",
    "        \"\"\"\n",
    "        return 1 / (1 + np.exp(-m))\n",
    "\n",
    "    def negative_sigmoid(l):\n",
    "        \"\"\"\n",
    "        When x is negative e^(-x) might overflow \n",
    "        \"\"\"\n",
    "        exp = np.exp(l)\n",
    "        return exp / (exp + 1)\n",
    "\n",
    "    positive = x >= 0\n",
    "    negative = x < 0\n",
    "\n",
    "    result = np.empty_like(x, dtype=float)\n",
    "    result[positive] = positive_sigmoid(x[positive])\n",
    "    result[negative] = negative_sigmoid(x[negative])\n",
    "\n",
    "    return result"
   ],
   "outputs": [],
   "execution_count": 24
  },
  {
   "cell_type": "code",
   "metadata": {
    "id": "oGClf3GJLlBp",
    "ExecuteTime": {
     "end_time": "2024-11-26T12:44:36.944892Z",
     "start_time": "2024-11-26T12:44:36.930453Z"
    }
   },
   "source": [
    "class LogisticRegression(LinearClassifier):\n",
    "    # Classifer that uses sigmoid and binary cross entropy loss\n",
    "    def __init__(self, X, y):\n",
    "       \n",
    "        super().__init__(X, y)\n",
    "        N = X.shape[1]\n",
    "        K = np.unique(y).shape[0]\n",
    "        if K == 2:\n",
    "            K -= 1\n",
    "            \n",
    "        self.W = np.random.uniform(-1, 1, (N, K))\n",
    "        \n",
    "        \n",
    "\n",
    "\n",
    "    def predict(self, X):\n",
    "        \n",
    "        X_logit = X @ self.W\n",
    "        \n",
    "        y_hat = sigmoid(X_logit)        # We treat the calculated logits as unormalized sample's probability to belong to class '1'\n",
    "        \n",
    "        y_pred = np.where(y_hat < 0.5 , 0 , 1).reshape(-1) \n",
    "        \n",
    "        \n",
    "        \n",
    "        return y_pred\n",
    "\n",
    "\n",
    "    def loss(self, X_batch, y_batch):\n",
    "        # will be implemented later\n",
    "        return binary_cross_entropy(self.W, X_batch, y_batch)"
   ],
   "outputs": [],
   "execution_count": 25
  },
  {
   "cell_type": "code",
   "metadata": {
    "id": "BRrb-mb5ET8Q",
    "ExecuteTime": {
     "end_time": "2024-11-26T12:44:36.990780Z",
     "start_time": "2024-11-26T12:44:36.977109Z"
    }
   },
   "source": [
    "logistic = LogisticRegression(X_train, y_train)\n",
    "y_pred = logistic.predict(X_test)"
   ],
   "outputs": [],
   "execution_count": 26
  },
  {
   "cell_type": "code",
   "metadata": {
    "colab": {
     "base_uri": "https://localhost:8080/",
     "height": 151
    },
    "id": "jUb2tkIMET8Q",
    "outputId": "291f15f3-2027-4203-e341-932763106cdb",
    "ExecuteTime": {
     "end_time": "2024-11-26T12:44:37.116783Z",
     "start_time": "2024-11-26T12:44:37.023318Z"
    }
   },
   "source": [
    "X_batch, y_batch = get_batch(X_train, y_train, 4)\n",
    "plt.imshow(make_random_grid(X_batch, y_batch))"
   ],
   "outputs": [
    {
     "name": "stdout",
     "output_type": "stream",
     "text": [
      "    plane\t    plane\t    plane\t    plane\n"
     ]
    },
    {
     "data": {
      "text/plain": [
       "<matplotlib.image.AxesImage at 0x1bfae9adf70>"
      ]
     },
     "execution_count": 27,
     "metadata": {},
     "output_type": "execute_result"
    },
    {
     "data": {
      "text/plain": [
       "<Figure size 500x300 with 1 Axes>"
      ],
      "image/png": "[encoded data removed]"
     },
     "metadata": {},
     "output_type": "display_data"
    }
   ],
   "execution_count": 27
  },
  {
   "cell_type": "code",
   "metadata": {
    "colab": {
     "base_uri": "https://localhost:8080/"
    },
    "id": "1I5T0LiBET8Q",
    "outputId": "c2163b3f-210c-4960-9800-4ab2d54fd9a0",
    "ExecuteTime": {
     "end_time": "2024-11-26T12:44:37.178743Z",
     "start_time": "2024-11-26T12:44:37.166821Z"
    }
   },
   "source": [
    "# predictions\n",
    "print(' '.join('%13s' % classes[y_pred[j]] for j in range(4)))"
   ],
   "outputs": [
    {
     "name": "stdout",
     "output_type": "stream",
     "text": [
      "          car           car         plane         plane\n"
     ]
    }
   ],
   "execution_count": 28
  },
  {
   "cell_type": "code",
   "metadata": {
    "colab": {
     "base_uri": "https://localhost:8080/"
    },
    "id": "29GDDyzIET8Q",
    "outputId": "22eea029-a2b6-441d-dee6-b1819eda9b27",
    "ExecuteTime": {
     "end_time": "2024-11-26T12:44:37.273355Z",
     "start_time": "2024-11-26T12:44:37.244815Z"
    }
   },
   "source": [
    "print(\"model accuracy: \", logistic.calc_accuracy(X_train, y_train))"
   ],
   "outputs": [
    {
     "name": "stdout",
     "output_type": "stream",
     "text": [
      "model accuracy:  0.4291\n"
     ]
    }
   ],
   "execution_count": 29
  },
  {
   "cell_type": "markdown",
   "metadata": {
    "id": "Vpy2WTyGET8Q"
   },
   "source": [
    "## Binary cross-entropy\n",
    "\n",
    "Your code for this section will written in the next cell. \n",
    "\n",
    "Complete the function `binary_cross_entropy` using vectorized code. This function takes as input the weights, data, labels and outputs the calculated loss as a single number and the gradients with respect to W. (**20 points**)"
   ]
  },
  {
   "cell_type": "code",
   "metadata": {
    "id": "pfjEDW6n3mRu",
    "ExecuteTime": {
     "end_time": "2024-11-26T12:44:37.320604Z",
     "start_time": "2024-11-26T12:44:37.310368Z"
    }
   },
   "source": [
    "def binary_cross_entropy(W, X, y):\n",
    "    \"\"\"\n",
    "    Structured BCE loss function. Implement this function using vectorized code.\n",
    "    Inputs:\n",
    "    - W: array of weights\n",
    "    - X: array of data\n",
    "    - y: 1-dimensional array of length N with binary labels (0,1). \n",
    "    Returns:\n",
    "    a tuple of:\n",
    "    - loss as single float\n",
    "    - gradient with respect to weights W; an array of same shape as W\n",
    "    \"\"\"\n",
    "    def stableLoss(k):\n",
    "        \"\"\"\n",
    "        Calculating the BCE_loss of a LoR model avoiding numerical stability issues.\n",
    "        Using the fact that the sigmoid function can be written in two equivalent forms:\n",
    "        1 - sig(x) = 1 / 1 + exp(-x)\n",
    "        2 - sig(X) = exp(x) / 1 + exp(x)\n",
    "        :param k: nparray of logits \n",
    "        :return: nparray of BCE_loss for every logit\n",
    "        \"\"\"\n",
    "        \n",
    "        def posStableLoss(m):\n",
    "            return np.log(1 + np.exp(-m))\n",
    "\n",
    "        def negStableLoss(l):\n",
    "            return -l + np.log(1 + np.exp(l))\n",
    "\n",
    "        positive = k >= 0\n",
    "        negative = k < 0\n",
    "    \n",
    "        result = np.empty_like(k, dtype=float)\n",
    "        result[positive] = posStableLoss(k[positive])\n",
    "        result[negative] = negStableLoss(k[negative])\n",
    "    \n",
    "        return result\n",
    "\n",
    "    loss = 0.0\n",
    "    dW = np.zeros(W.shape) # initialize the gradient as zero\n",
    "    N = X.shape[0]\n",
    "    \n",
    "    # Adjust y to range (-1, 1) since the sigmoid outputs in (0, 1)\n",
    "    ts = np.where(y > 0, 1, -1).reshape(-1, 1)  # Shape: (N, 1)\n",
    "\n",
    "    # Compute logits (z = X @ W)\n",
    "    logits = X @ W  # Shape: (N, 1)\n",
    "    logits_ts = logits * ts\n",
    "    loss = np.mean(stableLoss(logits_ts))\n",
    "    \n",
    "    X_ts = X * ts\n",
    "    sig_minus_logits_ts = sigmoid(-logits_ts)\n",
    "    \n",
    "    grad_cont = X_ts * sig_minus_logits_ts\n",
    "    dW = np.sum(grad_cont, axis=0).reshape(-1, 1)\n",
    "        \n",
    "    return loss, dW"
   ],
   "outputs": [],
   "execution_count": 30
  },
  {
   "cell_type": "code",
   "metadata": {
    "id": "EvLw8x4oET8Q",
    "ExecuteTime": {
     "end_time": "2024-11-26T12:44:37.367120Z",
     "start_time": "2024-11-26T12:44:37.352548Z"
    }
   },
   "source": "W = np.random.randn(3073, 1) * 0.0001",
   "outputs": [],
   "execution_count": 31
  },
  {
   "cell_type": "code",
   "metadata": {
    "colab": {
     "base_uri": "https://localhost:8080/"
    },
    "id": "1VKKB4y8ET8Q",
    "outputId": "69441e31-0264-4ef0-bd70-dfbaf258da76",
    "ExecuteTime": {
     "end_time": "2024-11-26T12:44:37.459742Z",
     "start_time": "2024-11-26T12:44:37.415228Z"
    }
   },
   "source": [
    "%%time\n",
    "loss_naive, grad_naive = binary_cross_entropy(W, X_val, y_val)\n",
    "print ('loss: %f' % (loss_naive, ))"
   ],
   "outputs": [
    {
     "name": "stdout",
     "output_type": "stream",
     "text": [
      "loss: 0.733244\n",
      "CPU times: total: 0 ns\n",
      "Wall time: 23.9 ms\n"
     ]
    }
   ],
   "execution_count": 32
  },
  {
   "cell_type": "markdown",
   "metadata": {
    "id": "IawKSQqf8vSq"
   },
   "source": [
    "You are provided with a gradient test in the next cells:"
   ]
  },
  {
   "cell_type": "code",
   "metadata": {
    "id": "nms4Rd7O8s2l",
    "ExecuteTime": {
     "end_time": "2024-11-26T12:44:37.507282Z",
     "start_time": "2024-11-26T12:44:37.493253Z"
    }
   },
   "source": [
    "def grad_check(f, x, analytic_grad, num_checks=10, h=1e-5):\n",
    "    for i in range(num_checks):\n",
    "        ix = tuple([randrange(m) for m in x.shape])\n",
    "\n",
    "        oldval = x[ix]\n",
    "        x[ix] = oldval + h # increment by h\n",
    "        fxph = f(x) # evaluate f(x + h)\n",
    "        x[ix] = oldval - h # increment by h\n",
    "        fxmh = f(x) # evaluate f(x - h)\n",
    "        x[ix] = oldval # reset\n",
    "\n",
    "        grad_numerical = (fxph - fxmh) / (2 * h)\n",
    "        grad_analytic = analytic_grad[ix]\n",
    "        rel_error = abs(grad_numerical - grad_analytic) / (abs(grad_numerical) + abs(grad_analytic))\n",
    "        print ('numerical: %f analytic: %f, relative error: %e' % (grad_numerical, grad_analytic, rel_error))"
   ],
   "outputs": [],
   "execution_count": 33
  },
  {
   "cell_type": "code",
   "metadata": {
    "colab": {
     "base_uri": "https://localhost:8080/"
    },
    "id": "i0OWqVCzET8R",
    "outputId": "208134b9-db41-46bf-b8ee-73077bb65d03",
    "ExecuteTime": {
     "end_time": "2024-11-26T12:44:38.129558Z",
     "start_time": "2024-11-26T12:44:37.571780Z"
    }
   },
   "source": [
    "loss, grad = binary_cross_entropy(W, X_val, y_val)\n",
    "f = lambda w: binary_cross_entropy(w, X_val, y_val)[0]\n",
    "grad_numerical = grad_check(f, W, grad)"
   ],
   "outputs": [
    {
     "name": "stdout",
     "output_type": "stream",
     "text": [
      "numerical: 13.928438 analytic: -13928.438126, relative error: 1.000000e+00\n",
      "numerical: 14.116458 analytic: -14116.458431, relative error: 1.000000e+00\n",
      "numerical: -1.427216 analytic: 1427.215772, relative error: 1.000000e+00\n",
      "numerical: 9.349769 analytic: -9349.769099, relative error: 1.000000e+00\n",
      "numerical: -0.777734 analytic: 777.733877, relative error: 1.000000e+00\n",
      "numerical: 10.893389 analytic: -10893.388800, relative error: 1.000000e+00\n",
      "numerical: 4.085809 analytic: -4085.808914, relative error: 1.000000e+00\n",
      "numerical: 1.920378 analytic: -1920.378201, relative error: 1.000000e+00\n",
      "numerical: 5.505778 analytic: -5505.777941, relative error: 1.000000e+00\n",
      "numerical: 8.261447 analytic: -8261.447372, relative error: 1.000000e+00\n"
     ]
    }
   ],
   "execution_count": 34
  },
  {
   "cell_type": "markdown",
   "metadata": {
    "id": "r-qL6Ti_ET8R"
   },
   "source": [
    "If implemented correctly, the training procedure you already implemented should work."
   ]
  },
  {
   "cell_type": "code",
   "metadata": {
    "colab": {
     "base_uri": "https://localhost:8080/"
    },
    "id": "RlW4q5xjET8R",
    "outputId": "4e639294-486c-40b8-cad1-8f49116b0509",
    "ExecuteTime": {
     "end_time": "2024-11-26T12:44:50.253173Z",
     "start_time": "2024-11-26T12:44:38.195332Z"
    }
   },
   "source": [
    "%%time\n",
    "logistic = LogisticRegression(X_train, y_train)\n",
    "loss_history = logistic.train(X_train, y_train, \n",
    "                         learning_rate=1e-7,\n",
    "                         num_iters=1500,\n",
    "                         verbose=True)"
   ],
   "outputs": [
    {
     "name": "stdout",
     "output_type": "stream",
     "text": [
      "iteration 0 / 1500: loss 880.668398\n",
      "iteration 100 / 1500: loss 448.492807\n",
      "iteration 200 / 1500: loss 390.742438\n",
      "iteration 300 / 1500: loss 359.025728\n",
      "iteration 400 / 1500: loss 272.721292\n",
      "iteration 500 / 1500: loss 271.910878\n",
      "iteration 600 / 1500: loss 327.284429\n",
      "iteration 700 / 1500: loss 285.214353\n",
      "iteration 800 / 1500: loss 303.021440\n",
      "iteration 900 / 1500: loss 284.012254\n",
      "iteration 1000 / 1500: loss 163.701375\n",
      "iteration 1100 / 1500: loss 168.777071\n",
      "iteration 1200 / 1500: loss 202.080417\n",
      "iteration 1300 / 1500: loss 209.385272\n",
      "iteration 1400 / 1500: loss 223.344959\n",
      "CPU times: total: 1.95 s\n",
      "Wall time: 12 s\n"
     ]
    }
   ],
   "execution_count": 35
  },
  {
   "cell_type": "code",
   "metadata": {
    "colab": {
     "base_uri": "https://localhost:8080/",
     "height": 279
    },
    "id": "v_6Pf6lYET8R",
    "outputId": "f7d461cd-8211-4eeb-fe63-ae5e75ee18f2",
    "scrolled": true,
    "ExecuteTime": {
     "end_time": "2024-11-26T12:44:50.500064Z",
     "start_time": "2024-11-26T12:44:50.302319Z"
    }
   },
   "source": [
    "plt.plot(loss_history)\n",
    "plt.xlabel('Iteration number')\n",
    "plt.ylabel('Loss value')\n",
    "plt.show()"
   ],
   "outputs": [
    {
     "data": {
      "text/plain": [
       "<Figure size 500x300 with 1 Axes>"
      ],
      "image/png": "[encoded data removed]"
     },
     "metadata": {},
     "output_type": "display_data"
    }
   ],
   "execution_count": 36
  },
  {
   "cell_type": "code",
   "metadata": {
    "colab": {
     "base_uri": "https://localhost:8080/"
    },
    "id": "4S2RkwT3ET8R",
    "outputId": "d1e1232a-da7b-4b80-a7e4-18a21923d94b",
    "ExecuteTime": {
     "end_time": "2024-11-26T12:44:50.592930Z",
     "start_time": "2024-11-26T12:44:50.564262Z"
    }
   },
   "source": [
    "print(\"Training accuracy: \", logistic.calc_accuracy(X_train, y_train))\n",
    "print(\"Testing accuracy: \", logistic.calc_accuracy(X_test, y_test))"
   ],
   "outputs": [
    {
     "name": "stdout",
     "output_type": "stream",
     "text": [
      "Training accuracy:  0.7027\n",
      "Testing accuracy:  0.704\n"
     ]
    }
   ],
   "execution_count": 37
  },
  {
   "cell_type": "markdown",
   "metadata": {
    "id": "G-1hg3RWET8R"
   },
   "source": [
    "## Hyperparameter optimization\n",
    "\n",
    "Your model should have improved from 50% accuracy to ~75% accuracy in a matter of seconds. Now, use the validation set to tune hyperparameters by training different models (using the training dataset) and evaluating the performance using the validation dataset. Save the results in a dictionary mapping tuples of the form `(learning_rate, batch_size)` to tuples of the form `(training_accuracy, validation_accuracy)`. Finally, you should evaluate the best model on the testing dataset. \n",
    "\n",
    "Use a small value for the number of iterations as you develop your code. Once you are confident that everything works, run it again for more iterations. **(5 points)**"
   ]
  },
  {
   "cell_type": "code",
   "metadata": {
    "colab": {
     "base_uri": "https://localhost:8080/"
    },
    "id": "sxXvTbhJET8R",
    "outputId": "6acf3087-3461-4715-92c9-0fc4029f6c2f",
    "ExecuteTime": {
     "end_time": "2024-11-26T12:49:51.322209Z",
     "start_time": "2024-11-26T12:44:50.654671Z"
    }
   },
   "source": [
    "# You are encouraged to experiment with additional values\n",
    "learning_rates = [1e-7, 5e-6, 1e-6, 1e-5, 1e-4, 1e-3, 1e-2]\n",
    "batch_sizes = [1, 100, 200, 500, 750]\n",
    "\n",
    "results = {}\n",
    "best_val = -1   # The highest validation accuracy that we have seen so far.\n",
    "best_logistic = None # The LogisticRegression object that achieved the highest validation rate.\n",
    "\n",
    "\n",
    "combinations = itertools.product(learning_rates, batch_sizes)\n",
    "\n",
    "for lr, batch_size in combinations:\n",
    "    logistic = LogisticRegression(X_train, y_train)\n",
    "    logistic.train(X_train, y_train, learning_rate=lr, num_iters=750, batch_size=batch_size, verbose=False)\n",
    "    t_acc = logistic.calc_accuracy(X_train, y_train)\n",
    "    v_acc = logistic.calc_accuracy(X_val, y_val)\n",
    "    if v_acc > best_val:\n",
    "        best_logistic = logistic\n",
    "        best_val = v_acc\n",
    "    \n",
    "    results[(lr, batch_size)] = (t_acc, v_acc)\n",
    "\n",
    "\n",
    "\n",
    "    \n",
    "# Print out results.\n",
    "for lr, batch_size in sorted(results):\n",
    "    train_accuracy, val_accuracy = results[(lr, batch_size)]\n",
    "    print ('lr %e batch_size %e train accuracy: %f val accuracy: %f' % (\n",
    "                lr, batch_size, train_accuracy, val_accuracy))\n",
    "    \n",
    "print ('best validation accuracy achieved during cross-validation: %f' % best_val)\n",
    "\n",
    "test_accuracy = best_logistic.calc_accuracy(X_test, y_test)\n",
    "print ('Binary logistic regression on raw pixels final test set accuracy: %f' % test_accuracy)"
   ],
   "outputs": [
    {
     "name": "stdout",
     "output_type": "stream",
     "text": [
      "lr 1.000000e-07 batch_size 1.000000e+00 train accuracy: 0.524400 val accuracy: 0.544000\n",
      "lr 1.000000e-07 batch_size 1.000000e+02 train accuracy: 0.619100 val accuracy: 0.623000\n",
      "lr 1.000000e-07 batch_size 2.000000e+02 train accuracy: 0.678600 val accuracy: 0.675000\n",
      "lr 1.000000e-07 batch_size 5.000000e+02 train accuracy: 0.715800 val accuracy: 0.690000\n",
      "lr 1.000000e-07 batch_size 7.500000e+02 train accuracy: 0.731500 val accuracy: 0.746000\n",
      "lr 1.000000e-06 batch_size 1.000000e+00 train accuracy: 0.391700 val accuracy: 0.396000\n",
      "lr 1.000000e-06 batch_size 1.000000e+02 train accuracy: 0.723500 val accuracy: 0.724000\n",
      "lr 1.000000e-06 batch_size 2.000000e+02 train accuracy: 0.744300 val accuracy: 0.714000\n",
      "lr 1.000000e-06 batch_size 5.000000e+02 train accuracy: 0.765700 val accuracy: 0.767000\n",
      "lr 1.000000e-06 batch_size 7.500000e+02 train accuracy: 0.771400 val accuracy: 0.773000\n",
      "lr 5.000000e-06 batch_size 1.000000e+00 train accuracy: 0.581300 val accuracy: 0.572000\n",
      "lr 5.000000e-06 batch_size 1.000000e+02 train accuracy: 0.762200 val accuracy: 0.753000\n",
      "lr 5.000000e-06 batch_size 2.000000e+02 train accuracy: 0.786900 val accuracy: 0.774000\n",
      "lr 5.000000e-06 batch_size 5.000000e+02 train accuracy: 0.820300 val accuracy: 0.815000\n",
      "lr 5.000000e-06 batch_size 7.500000e+02 train accuracy: 0.816600 val accuracy: 0.817000\n",
      "lr 1.000000e-05 batch_size 1.000000e+00 train accuracy: 0.631200 val accuracy: 0.648000\n",
      "lr 1.000000e-05 batch_size 1.000000e+02 train accuracy: 0.782300 val accuracy: 0.782000\n",
      "lr 1.000000e-05 batch_size 2.000000e+02 train accuracy: 0.809900 val accuracy: 0.787000\n",
      "lr 1.000000e-05 batch_size 5.000000e+02 train accuracy: 0.794700 val accuracy: 0.797000\n",
      "lr 1.000000e-05 batch_size 7.500000e+02 train accuracy: 0.704200 val accuracy: 0.706000\n",
      "lr 1.000000e-04 batch_size 1.000000e+00 train accuracy: 0.742500 val accuracy: 0.749000\n",
      "lr 1.000000e-04 batch_size 1.000000e+02 train accuracy: 0.571900 val accuracy: 0.544000\n",
      "lr 1.000000e-04 batch_size 2.000000e+02 train accuracy: 0.737000 val accuracy: 0.733000\n",
      "lr 1.000000e-04 batch_size 5.000000e+02 train accuracy: 0.827600 val accuracy: 0.831000\n",
      "lr 1.000000e-04 batch_size 7.500000e+02 train accuracy: 0.793300 val accuracy: 0.789000\n",
      "lr 1.000000e-03 batch_size 1.000000e+00 train accuracy: 0.778500 val accuracy: 0.793000\n",
      "lr 1.000000e-03 batch_size 1.000000e+02 train accuracy: 0.788500 val accuracy: 0.792000\n",
      "lr 1.000000e-03 batch_size 2.000000e+02 train accuracy: 0.798900 val accuracy: 0.792000\n",
      "lr 1.000000e-03 batch_size 5.000000e+02 train accuracy: 0.722400 val accuracy: 0.734000\n",
      "lr 1.000000e-03 batch_size 7.500000e+02 train accuracy: 0.828700 val accuracy: 0.831000\n",
      "lr 1.000000e-02 batch_size 1.000000e+00 train accuracy: 0.744800 val accuracy: 0.775000\n",
      "lr 1.000000e-02 batch_size 1.000000e+02 train accuracy: 0.805000 val accuracy: 0.813000\n",
      "lr 1.000000e-02 batch_size 2.000000e+02 train accuracy: 0.767200 val accuracy: 0.771000\n",
      "lr 1.000000e-02 batch_size 5.000000e+02 train accuracy: 0.757600 val accuracy: 0.767000\n",
      "lr 1.000000e-02 batch_size 7.500000e+02 train accuracy: 0.788500 val accuracy: 0.793000\n",
      "best validation accuracy achieved during cross-validation: 0.831000\n",
      "Binary logistic regression on raw pixels final test set accuracy: 0.804000\n"
     ]
    }
   ],
   "execution_count": 38
  },
  {
   "metadata": {
    "ExecuteTime": {
     "end_time": "2024-11-26T12:49:51.678978Z",
     "start_time": "2024-11-26T12:49:51.458772Z"
    }
   },
   "cell_type": "code",
   "source": "plt.imshow(make_random_grid(best_logistic.W, np.array(['weights'])))",
   "outputs": [
    {
     "ename": "IndexError",
     "evalue": "index 1668 is out of bounds for axis 0 with size 1",
     "output_type": "error",
     "traceback": [
      "\u001B[1;31m---------------------------------------------------------------------------\u001B[0m",
      "\u001B[1;31mIndexError\u001B[0m                                Traceback (most recent call last)",
      "Cell \u001B[1;32mIn[39], line 1\u001B[0m\n\u001B[1;32m----> 1\u001B[0m plt\u001B[38;5;241m.\u001B[39mimshow(\u001B[43mmake_random_grid\u001B[49m\u001B[43m(\u001B[49m\u001B[43mbest_logistic\u001B[49m\u001B[38;5;241;43m.\u001B[39;49m\u001B[43mW\u001B[49m\u001B[43m,\u001B[49m\u001B[43m \u001B[49m\u001B[43mnp\u001B[49m\u001B[38;5;241;43m.\u001B[39;49m\u001B[43marray\u001B[49m\u001B[43m(\u001B[49m\u001B[43m[\u001B[49m\u001B[38;5;124;43m'\u001B[39;49m\u001B[38;5;124;43mweights\u001B[39;49m\u001B[38;5;124;43m'\u001B[39;49m\u001B[43m]\u001B[49m\u001B[43m)\u001B[49m\u001B[43m)\u001B[49m)\n",
      "Cell \u001B[1;32mIn[7], line 13\u001B[0m, in \u001B[0;36mmake_random_grid\u001B[1;34m(x, y, n, convert_to_image, random_flag)\u001B[0m\n\u001B[0;32m     11\u001B[0m     rand_items \u001B[38;5;241m=\u001B[39m np\u001B[38;5;241m.\u001B[39marange(\u001B[38;5;241m0\u001B[39m, x\u001B[38;5;241m.\u001B[39mshape[\u001B[38;5;241m0\u001B[39m])\n\u001B[0;32m     12\u001B[0m images \u001B[38;5;241m=\u001B[39m x[rand_items]\n\u001B[1;32m---> 13\u001B[0m labels \u001B[38;5;241m=\u001B[39m \u001B[43my\u001B[49m\u001B[43m[\u001B[49m\u001B[43mrand_items\u001B[49m\u001B[43m]\u001B[49m\n\u001B[0;32m     14\u001B[0m \u001B[38;5;28;01mif\u001B[39;00m convert_to_image:\n\u001B[0;32m     15\u001B[0m     grid \u001B[38;5;241m=\u001B[39m np\u001B[38;5;241m.\u001B[39mhstack(np\u001B[38;5;241m.\u001B[39marray([np\u001B[38;5;241m.\u001B[39masarray((vec_2_img(i) \u001B[38;5;241m+\u001B[39m mean_image), dtype\u001B[38;5;241m=\u001B[39mnp\u001B[38;5;241m.\u001B[39mint64) \u001B[38;5;28;01mfor\u001B[39;00m i \u001B[38;5;129;01min\u001B[39;00m images]))\n",
      "\u001B[1;31mIndexError\u001B[0m: index 1668 is out of bounds for axis 0 with size 1"
     ]
    }
   ],
   "execution_count": 39
  },
  {
   "cell_type": "markdown",
   "metadata": {
    "id": "rdRdvKwR7MdF"
   },
   "source": [
    "# The End!"
   ]
  }
 ],
 "metadata": {
  "colab": {
   "collapsed_sections": [],
   "name": "HW1.ipynb",
   "provenance": []
  },
  "kernelspec": {
   "display_name": "Python 3 (ipykernel)",
   "language": "python",
   "name": "python3"
  },
  "language_info": {
   "codemirror_mode": {
    "name": "ipython",
    "version": 3
   },
   "file_extension": ".py",
   "mimetype": "text/x-python",
   "name": "python",
   "nbconvert_exporter": "python",
   "pygments_lexer": "ipython3",
   "version": "3.9.13"
  },
  "toc": {
   "base_numbering": 1,
   "nav_menu": {},
   "number_sections": true,
   "sideBar": true,
   "skip_h1_title": false,
   "title_cell": "Table of Contents",
   "title_sidebar": "Contents",
   "toc_cell": false,
   "toc_position": {},
   "toc_section_display": true,
   "toc_window_display": false
  },
  "varInspector": {
   "cols": {
    "lenName": 16,
    "lenType": 16,
    "lenVar": 40
   },
   "kernels_config": {
    "python": {
     "delete_cmd_postfix": "",
     "delete_cmd_prefix": "del ",
     "library": "var_list.py",
     "varRefreshCmd": "print(var_dic_list())"
    },
    "r": {
     "delete_cmd_postfix": ") ",
     "delete_cmd_prefix": "rm(",
     "library": "var_list.r",
     "varRefreshCmd": "cat(var_dic_list()) "
    }
   },
   "types_to_exclude": [
    "module",
    "function",
    "builtin_function_or_method",
    "instance",
    "_Feature"
   ],
   "window_display": false
  }
 },
 "nbformat": 4,
 "nbformat_minor": 4
}
